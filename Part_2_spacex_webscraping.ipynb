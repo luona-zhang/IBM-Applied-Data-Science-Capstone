{
  "cells": [
    {
      "cell_type": "markdown",
      "metadata": {
        "id": "kEf-m22-1Atf"
      },
      "source": [
        "# **Space X  Falcon 9 First Stage Landing Prediction**\n"
      ]
    },
    {
      "cell_type": "markdown",
      "metadata": {
        "id": "HHM1ebzX1Atg"
      },
      "source": [
        "## Lab 2: Web scraping Falcon 9 and Falcon Heavy Launches Records from Wikipedia\n"
      ]
    },
    {
      "cell_type": "markdown",
      "metadata": {
        "id": "YecknNsf1Atg"
      },
      "source": [
        "Estimated time needed: **40** minutes\n"
      ]
    },
    {
      "cell_type": "markdown",
      "metadata": {
        "id": "UiX3PqOC1Atg"
      },
      "source": [
        "In this lab, we perform web scraping to collect Falcon 9 historical launch records from a Wikipedia page titled `List of Falcon 9 and Falcon Heavy launches`\n",
        "\n",
        "https://en.wikipedia.org/wiki/List_of_Falcon_9_and_Falcon_Heavy_launches\n"
      ]
    },
    {
      "cell_type": "markdown",
      "metadata": {
        "id": "JyCKA0tr1Ati"
      },
      "source": [
        "More specifically, the launch records are stored in a HTML table shown below:\n"
      ]
    },
    {
      "cell_type": "markdown",
      "metadata": {
        "id": "uzxl5zBa1Ati"
      },
      "source": [
        "![](https://cf-courses-data.s3.us.cloud-object-storage.appdomain.cloud/IBM-DS0321EN-SkillsNetwork/labs/module_1_L2/images/falcon9-launches-wiki.png)\n"
      ]
    },
    {
      "cell_type": "markdown",
      "metadata": {
        "tags": [],
        "id": "7I0nWK2q1Ati"
      },
      "source": [
        "  ## Objectives\n",
        "Web scrap Falcon 9 launch records with `BeautifulSoup`:\n",
        "- Extract a Falcon 9 launch records HTML table from Wikipedia\n",
        "- Parse the table and convert it into a Pandas data frame\n"
      ]
    },
    {
      "cell_type": "markdown",
      "metadata": {
        "id": "RrZbvOdN1Ati"
      },
      "source": [
        "First let's import required packages for this lab\n"
      ]
    },
    {
      "cell_type": "code",
      "execution_count": null,
      "metadata": {
        "tags": [],
        "id": "iVZiWk1B1Ati"
      },
      "outputs": [],
      "source": [
        "!pip3 install beautifulsoup4\n",
        "!pip3 install requests"
      ]
    },
    {
      "cell_type": "code",
      "execution_count": null,
      "metadata": {
        "tags": [],
        "id": "8fzz64-a1Atj"
      },
      "outputs": [],
      "source": [
        "import sys\n",
        "\n",
        "import requests\n",
        "from bs4 import BeautifulSoup\n",
        "import re\n",
        "import unicodedata\n",
        "import pandas as pd"
      ]
    },
    {
      "cell_type": "markdown",
      "metadata": {
        "id": "Px3mQEdc1Atk"
      },
      "source": [
        "and we will provide some helper functions for you to process web scraped HTML table\n"
      ]
    },
    {
      "cell_type": "code",
      "execution_count": null,
      "metadata": {
        "tags": [],
        "id": "x2YzQ3je1Atk"
      },
      "outputs": [],
      "source": [
        "def date_time(table_cells):\n",
        "    \"\"\"\n",
        "    This function returns the data and time from the HTML  table cell\n",
        "    Input: the  element of a table data cell extracts extra row\n",
        "    \"\"\"\n",
        "    return [data_time.strip() for data_time in list(table_cells.strings)][0:2]\n",
        "\n",
        "def booster_version(table_cells):\n",
        "    \"\"\"\n",
        "    This function returns the booster version from the HTML  table cell\n",
        "    Input: the  element of a table data cell extracts extra row\n",
        "    \"\"\"\n",
        "    out=''.join([booster_version for i,booster_version in enumerate( table_cells.strings) if i%2==0][0:-1])\n",
        "    return out\n",
        "\n",
        "def landing_status(table_cells):\n",
        "    \"\"\"\n",
        "    This function returns the landing status from the HTML table cell\n",
        "    Input: the  element of a table data cell extracts extra row\n",
        "    \"\"\"\n",
        "    out=[i for i in table_cells.strings][0]\n",
        "    return out\n",
        "\n",
        "\n",
        "def get_mass(table_cells):\n",
        "    mass=unicodedata.normalize(\"NFKD\", table_cells.text).strip()\n",
        "    if mass:\n",
        "        mass.find(\"kg\")\n",
        "        new_mass=mass[0:mass.find(\"kg\")+2]\n",
        "    else:\n",
        "        new_mass=0\n",
        "    return new_mass\n",
        "\n",
        "\n",
        "def extract_column_from_header(row):\n",
        "    \"\"\"\n",
        "    This function returns the landing status from the HTML table cell\n",
        "    Input: the  element of a table data cell extracts extra row\n",
        "    \"\"\"\n",
        "    if (row.br):\n",
        "        row.br.extract()\n",
        "    if row.a:\n",
        "        row.a.extract()\n",
        "    if row.sup:\n",
        "        row.sup.extract()\n",
        "\n",
        "    colunm_name = ' '.join(row.contents)\n",
        "\n",
        "    # Filter the digit and empty names\n",
        "    if not(colunm_name.strip().isdigit()):\n",
        "        colunm_name = colunm_name.strip()\n",
        "        return colunm_name\n"
      ]
    },
    {
      "cell_type": "markdown",
      "metadata": {
        "id": "lfpU-9tg1Atk"
      },
      "source": [
        "To keep the lab tasks consistent, you will be asked to scrape the data from a snapshot of the  `List of Falcon 9 and Falcon Heavy launches` Wikipage updated on\n",
        "`9th June 2021`\n"
      ]
    },
    {
      "cell_type": "code",
      "execution_count": null,
      "metadata": {
        "tags": [],
        "id": "4MVYakHU1Atk"
      },
      "outputs": [],
      "source": [
        "static_url = \"https://en.wikipedia.org/w/index.php?title=List_of_Falcon_9_and_Falcon_Heavy_launches&oldid=1027686922\""
      ]
    },
    {
      "cell_type": "markdown",
      "metadata": {
        "id": "EJkVZ5aj1Atk"
      },
      "source": [
        "Next, request the HTML page from the above URL and get a `response` object\n"
      ]
    },
    {
      "cell_type": "markdown",
      "metadata": {
        "tags": [],
        "id": "QZYpNYt11Atk"
      },
      "source": [
        "### TASK 1: Request the Falcon9 Launch Wiki page from its URL\n"
      ]
    },
    {
      "cell_type": "markdown",
      "metadata": {
        "id": "0lPrvdLC1Atk"
      },
      "source": [
        "First, let's perform an HTTP GET method to request the Falcon9 Launch HTML page, as an HTTP response.\n"
      ]
    },
    {
      "cell_type": "code",
      "execution_count": null,
      "metadata": {
        "tags": [],
        "id": "U6xAKhF31Atk"
      },
      "outputs": [],
      "source": [
        "# use requests.get() method with the provided static_url\n",
        "# assign the response to a object\n",
        "\n",
        "page = requests.get(static_url)"
      ]
    },
    {
      "cell_type": "markdown",
      "metadata": {
        "id": "jD8Z5xfE1Atk"
      },
      "source": [
        "Create a `BeautifulSoup` object from the HTML `response`\n"
      ]
    },
    {
      "cell_type": "code",
      "execution_count": null,
      "metadata": {
        "tags": [],
        "id": "EiaqFRpB1Atk"
      },
      "outputs": [],
      "source": [
        "# Use BeautifulSoup() to create a BeautifulSoup object from a response text content\n",
        "\n",
        "soup = BeautifulSoup(page.content, \"html.parser\")"
      ]
    },
    {
      "cell_type": "markdown",
      "metadata": {
        "id": "MBm32IjX1Atk"
      },
      "source": [
        "Print the page title to verify if the `BeautifulSoup` object was created properly\n"
      ]
    },
    {
      "cell_type": "code",
      "execution_count": null,
      "metadata": {
        "tags": [],
        "id": "Zw9hFo8X1Atk",
        "outputId": "a5c6b7b6-7464-4e8d-9548-65b52f1f7140"
      },
      "outputs": [
        {
          "data": {
            "text/plain": [
              "<title>List of Falcon 9 and Falcon Heavy launches - Wikipedia</title>"
            ]
          },
          "execution_count": 9,
          "metadata": {},
          "output_type": "execute_result"
        }
      ],
      "source": [
        "# Use soup.title attribute\n",
        "soup.title"
      ]
    },
    {
      "cell_type": "markdown",
      "metadata": {
        "id": "xH06Q-Mo1Atl"
      },
      "source": [
        "### TASK 2: Extract all column/variable names from the HTML table header\n"
      ]
    },
    {
      "cell_type": "markdown",
      "metadata": {
        "id": "c9VDnCF41Atl"
      },
      "source": [
        "Next, we want to collect all relevant column names from the HTML table header\n"
      ]
    },
    {
      "cell_type": "markdown",
      "metadata": {
        "id": "sssMYMYJ1Atl"
      },
      "source": [
        "Let's try to find all tables on the wiki page first. If you need to refresh your memory about `BeautifulSoup`, please check the external reference link towards the end of this lab\n"
      ]
    },
    {
      "cell_type": "code",
      "execution_count": null,
      "metadata": {
        "tags": [],
        "id": "WN35IfY51Atl"
      },
      "outputs": [],
      "source": [
        "# Use the find_all function in the BeautifulSoup object, with element type `table`\n",
        "# Assign the result to a list called `html_tables`\n",
        "html_tables = soup.find_all('table')"
      ]
    },
    {
      "cell_type": "markdown",
      "metadata": {
        "id": "Rw_gMcDi1Atl"
      },
      "source": [
        "Starting from the third table is our target table contains the actual launch records.\n"
      ]
    },
    {
      "cell_type": "code",
      "execution_count": null,
      "metadata": {
        "tags": [],
        "id": "J4xe0f__1Atl"
      },
      "outputs": [],
      "source": [
        "# Let's print the third table and check its content\n",
        "first_launch_table = html_tables[2]\n",
        "print(first_launch_table)"
      ]
    },
    {
      "cell_type": "markdown",
      "metadata": {
        "id": "wuHV4O0j1Atl"
      },
      "source": [
        "You should able to see the columns names embedded in the table header elements `<th>` as follows:\n"
      ]
    },
    {
      "cell_type": "markdown",
      "metadata": {
        "id": "ZO4xQpAq1Atl"
      },
      "source": [
        "```\n",
        "<tr>\n",
        "<th scope=\"col\">Flight No.\n",
        "</th>\n",
        "<th scope=\"col\">Date and<br/>time (<a href=\"/wiki/Coordinated_Universal_Time\" title=\"Coordinated Universal Time\">UTC</a>)\n",
        "</th>\n",
        "<th scope=\"col\"><a href=\"/wiki/List_of_Falcon_9_first-stage_boosters\" title=\"List of Falcon 9 first-stage boosters\">Version,<br/>Booster</a> <sup class=\"reference\" id=\"cite_ref-booster_11-0\"><a href=\"#cite_note-booster-11\">[b]</a></sup>\n",
        "</th>\n",
        "<th scope=\"col\">Launch site\n",
        "</th>\n",
        "<th scope=\"col\">Payload<sup class=\"reference\" id=\"cite_ref-Dragon_12-0\"><a href=\"#cite_note-Dragon-12\">[c]</a></sup>\n",
        "</th>\n",
        "<th scope=\"col\">Payload mass\n",
        "</th>\n",
        "<th scope=\"col\">Orbit\n",
        "</th>\n",
        "<th scope=\"col\">Customer\n",
        "</th>\n",
        "<th scope=\"col\">Launch<br/>outcome\n",
        "</th>\n",
        "<th scope=\"col\"><a href=\"/wiki/Falcon_9_first-stage_landing_tests\" title=\"Falcon 9 first-stage landing tests\">Booster<br/>landing</a>\n",
        "</th></tr>\n",
        "```\n"
      ]
    },
    {
      "cell_type": "markdown",
      "metadata": {
        "id": "jRvX0TBq1Atl"
      },
      "source": [
        "Next, we just need to iterate through the `<th>` elements and apply the provided `extract_column_from_header()` to extract column name one by one\n"
      ]
    },
    {
      "cell_type": "code",
      "execution_count": null,
      "metadata": {
        "tags": [],
        "id": "8pH8EQN01Atl"
      },
      "outputs": [],
      "source": [
        "column_names = []\n",
        "\n",
        "# Apply find_all() function with `th` element on first_launch_table\n",
        "headers=first_launch_table.find_all('th')\n",
        "\n",
        "# Iterate each th element and apply the provided extract_column_from_header() to get a column name\n",
        "for i in headers:\n",
        "    name = extract_column_from_header(i)\n",
        "\n",
        "    # Append the Non-empty column name (`if name is not None and len(name) > 0`) into a list called column_names\n",
        "    if name is not None and len(name) > 0:\n",
        "        column_names.append(name)\n"
      ]
    },
    {
      "cell_type": "markdown",
      "metadata": {
        "id": "BxdJjGk91Atl"
      },
      "source": [
        "Check the extracted column names\n"
      ]
    },
    {
      "cell_type": "code",
      "execution_count": null,
      "metadata": {
        "tags": [],
        "id": "BxTvGPED1Atr",
        "outputId": "b2b2eba7-3ef8-4fc2-d3bf-e9a9a5791d86"
      },
      "outputs": [
        {
          "name": "stdout",
          "output_type": "stream",
          "text": [
            "['Flight No.', 'Date and time ( )', 'Launch site', 'Payload', 'Payload mass', 'Orbit', 'Customer', 'Launch outcome']\n"
          ]
        }
      ],
      "source": [
        "print(column_names)"
      ]
    },
    {
      "cell_type": "markdown",
      "metadata": {
        "id": "g-Xsi-0_1Atr"
      },
      "source": [
        "## TASK 3: Create a data frame by parsing the launch HTML tables\n"
      ]
    },
    {
      "cell_type": "markdown",
      "metadata": {
        "id": "xlrcnFXW1Atr"
      },
      "source": [
        "We will create an empty dictionary with keys from the extracted column names in the previous task. Later, this dictionary will be converted into a Pandas dataframe\n"
      ]
    },
    {
      "cell_type": "code",
      "execution_count": null,
      "metadata": {
        "tags": [],
        "id": "n8_-Qf4J1Atr"
      },
      "outputs": [],
      "source": [
        "launch_dict= dict.fromkeys(column_names)\n",
        "\n",
        "# Remove an irrelvant column\n",
        "del launch_dict['Date and time ( )']\n",
        "\n",
        "# Let's initial the launch_dict with each value to be an empty list\n",
        "launch_dict['Flight No.'] = []\n",
        "launch_dict['Launch site'] = []\n",
        "launch_dict['Payload'] = []\n",
        "launch_dict['Payload mass'] = []\n",
        "launch_dict['Orbit'] = []\n",
        "launch_dict['Customer'] = []\n",
        "launch_dict['Launch outcome'] = []\n",
        "# Added some new columns\n",
        "launch_dict['Version Booster']=[]\n",
        "launch_dict['Booster landing']=[]\n",
        "launch_dict['Date']=[]\n",
        "launch_dict['Time']=[]"
      ]
    },
    {
      "cell_type": "code",
      "execution_count": null,
      "metadata": {
        "tags": [],
        "id": "Z1sUIqpw1Ats",
        "outputId": "e4c037bc-ca34-4780-9273-ab862652aa1f"
      },
      "outputs": [
        {
          "data": {
            "text/plain": [
              "[]"
            ]
          },
          "execution_count": 15,
          "metadata": {},
          "output_type": "execute_result"
        }
      ],
      "source": [
        "launch_dict['Flight No.']"
      ]
    },
    {
      "cell_type": "markdown",
      "metadata": {
        "id": "5TG_DFRM1Ats"
      },
      "source": [
        "Next, we just need to fill up the `launch_dict` with launch records extracted from table rows.\n"
      ]
    },
    {
      "cell_type": "markdown",
      "metadata": {
        "id": "OXyQAdsq1Ats"
      },
      "source": [
        "Usually, HTML tables in Wiki pages are likely to contain unexpected annotations and other types of noises, such as reference links `B0004.1[8]`, missing values `N/A [e]`, inconsistent formatting, etc.\n"
      ]
    },
    {
      "cell_type": "markdown",
      "metadata": {
        "id": "c-_fLHmF1Ats"
      },
      "source": [
        "To simplify the parsing process, we have provided an incomplete code snippet below to help you to fill up the `launch_dict`. Please complete the following code snippet with TODOs or you can choose to write your own logic to parse all launch tables:\n"
      ]
    },
    {
      "cell_type": "code",
      "execution_count": null,
      "metadata": {
        "tags": [],
        "id": "w-oWfbKe1Ats"
      },
      "outputs": [],
      "source": [
        "extracted_row = 0\n",
        "\n",
        "#Extract each table\n",
        "for table_number,table in enumerate(soup.find_all('table',\"wikitable plainrowheaders collapsible\")):\n",
        "   # get table row\n",
        "    for rows in table.find_all(\"tr\"):\n",
        "        #check to see if first table heading is as number corresponding to launch a number\n",
        "        if rows.th:\n",
        "            if rows.th.string:\n",
        "                flight_number=rows.th.string.strip()\n",
        "                flag=flight_number.isdigit()\n",
        "        else:\n",
        "            flag=False\n",
        "        #get table element\n",
        "        row=rows.find_all('td')\n",
        "        #if it is number save cells in a dictonary\n",
        "        if flag:\n",
        "            extracted_row += 1\n",
        "            # Flight Number value\n",
        "            # TODO: Append the flight_number into launch_dict with key `Flight No.`\n",
        "            launch_dict['Flight No.'].append(flight_number)\n",
        "            #print(flight_number)\n",
        "\n",
        "            datatimelist=date_time(row[0])\n",
        "            # Date value\n",
        "            # TODO: Append the date into launch_dict with key `Date`\n",
        "            date = datatimelist[0].strip(',')\n",
        "            launch_dict['Date'].append(date)\n",
        "            #print(date)\n",
        "\n",
        "            # Time value\n",
        "            # TODO: Append the time into launch_dict with key `Time`\n",
        "            time = datatimelist[1]\n",
        "            launch_dict['Time'].append(time)\n",
        "            #print(time)\n",
        "\n",
        "            # Booster version\n",
        "            # TODO: Append the bv into launch_dict with key `Version Booster`\n",
        "            bv=booster_version(row[1])\n",
        "            if not(bv):\n",
        "                bv=row[1].a.string\n",
        "            #print(bv)\n",
        "            launch_dict['Version Booster'].append(bv)\n",
        "\n",
        "            # Launch Site\n",
        "            # TODO: Append the bv into launch_dict with key `Launch Site`\n",
        "            launch_site = row[2].a.string\n",
        "            launch_dict['Launch site'].append(launch_site)\n",
        "            #print(launch_site)\n",
        "\n",
        "            # Payload\n",
        "            # TODO: Append the payload into launch_dict with key `Payload`\n",
        "            payload = row[3].a.string\n",
        "            launch_dict['Payload'].append(payload)\n",
        "            #print(payload)\n",
        "\n",
        "            # Payload Mass\n",
        "            # TODO: Append the payload_mass into launch_dict with key `Payload mass`\n",
        "            payload_mass = get_mass(row[4])\n",
        "            launch_dict['Payload mass'].append(payload_mass)\n",
        "            #print(payload)\n",
        "\n",
        "            # Orbit\n",
        "            # TODO: Append the orbit into launch_dict with key `Orbit`\n",
        "            orbit = row[5].a.string\n",
        "            launch_dict['Orbit'].append(orbit)\n",
        "            #print(orbit)\n",
        "\n",
        "            # Customer\n",
        "            # TODO: Append the customer into launch_dict with key `Customer`\n",
        "            # Safely extract the customer name\n",
        "            customer_tag = row[6].find('a')  # safer than directly accessing .a\n",
        "\n",
        "            if customer_tag is not None and customer_tag.string is not None:\n",
        "                customer = customer_tag.string.strip()\n",
        "            else:\n",
        "                customer = ''  # or use None or some default value\n",
        "            #customer = row[6].a.string\n",
        "            launch_dict['Customer'].append(customer)\n",
        "            #print(customer)\n",
        "\n",
        "            # Launch outcome\n",
        "            # TODO: Append the launch_outcome into launch_dict with key `Launch outcome`\n",
        "            launch_outcome = list(row[7].strings)[0]\n",
        "            launch_dict['Launch outcome'].append(launch_outcome)\n",
        "            #print(launch_outcome)\n",
        "\n",
        "            # Booster landing\n",
        "            # TODO: Append the launch_outcome into launch_dict with key `Booster landing`\n",
        "            booster_landing = landing_status(row[8])\n",
        "            launch_dict['Booster landing'].append(booster_landing)\n",
        "            #print(booster_landing)\n",
        ""
      ]
    },
    {
      "cell_type": "markdown",
      "metadata": {
        "id": "Bo9XqjaL1Ats"
      },
      "source": [
        "After you have fill in the parsed launch record values into `launch_dict`, you can create a dataframe from it.\n"
      ]
    },
    {
      "cell_type": "code",
      "execution_count": null,
      "metadata": {
        "tags": [],
        "id": "ZcWv4ZU31Ats"
      },
      "outputs": [],
      "source": [
        "df= pd.DataFrame({ key:pd.Series(value) for key, value in launch_dict.items() })"
      ]
    },
    {
      "cell_type": "code",
      "execution_count": null,
      "metadata": {
        "tags": [],
        "id": "_PCHzyR71Ats",
        "outputId": "d8c1a1de-dab9-46ac-af7a-cf27991bf95b"
      },
      "outputs": [
        {
          "data": {
            "text/html": [
              "<div>\n",
              "<style scoped>\n",
              "    .dataframe tbody tr th:only-of-type {\n",
              "        vertical-align: middle;\n",
              "    }\n",
              "\n",
              "    .dataframe tbody tr th {\n",
              "        vertical-align: top;\n",
              "    }\n",
              "\n",
              "    .dataframe thead th {\n",
              "        text-align: right;\n",
              "    }\n",
              "</style>\n",
              "<table border=\"1\" class=\"dataframe\">\n",
              "  <thead>\n",
              "    <tr style=\"text-align: right;\">\n",
              "      <th></th>\n",
              "      <th>Flight No.</th>\n",
              "      <th>Launch site</th>\n",
              "      <th>Payload</th>\n",
              "      <th>Payload mass</th>\n",
              "      <th>Orbit</th>\n",
              "      <th>Customer</th>\n",
              "      <th>Launch outcome</th>\n",
              "      <th>Version Booster</th>\n",
              "      <th>Booster landing</th>\n",
              "      <th>Date</th>\n",
              "      <th>Time</th>\n",
              "    </tr>\n",
              "  </thead>\n",
              "  <tbody>\n",
              "    <tr>\n",
              "      <th>0</th>\n",
              "      <td>1</td>\n",
              "      <td>CCAFS</td>\n",
              "      <td>Dragon Spacecraft Qualification Unit</td>\n",
              "      <td>0</td>\n",
              "      <td>LEO</td>\n",
              "      <td>SpaceX</td>\n",
              "      <td>Success\\n</td>\n",
              "      <td>F9 v1.07B0003.18</td>\n",
              "      <td>Failure</td>\n",
              "      <td>4 June 2010</td>\n",
              "      <td>18:45</td>\n",
              "    </tr>\n",
              "    <tr>\n",
              "      <th>1</th>\n",
              "      <td>2</td>\n",
              "      <td>CCAFS</td>\n",
              "      <td>Dragon</td>\n",
              "      <td>0</td>\n",
              "      <td>LEO</td>\n",
              "      <td>NASA</td>\n",
              "      <td>Success</td>\n",
              "      <td>F9 v1.07B0004.18</td>\n",
              "      <td>Failure</td>\n",
              "      <td>8 December 2010</td>\n",
              "      <td>15:43</td>\n",
              "    </tr>\n",
              "    <tr>\n",
              "      <th>2</th>\n",
              "      <td>3</td>\n",
              "      <td>CCAFS</td>\n",
              "      <td>Dragon</td>\n",
              "      <td>525 kg</td>\n",
              "      <td>LEO</td>\n",
              "      <td>NASA</td>\n",
              "      <td>Success</td>\n",
              "      <td>F9 v1.07B0005.18</td>\n",
              "      <td>No attempt\\n</td>\n",
              "      <td>22 May 2012</td>\n",
              "      <td>07:44</td>\n",
              "    </tr>\n",
              "    <tr>\n",
              "      <th>3</th>\n",
              "      <td>4</td>\n",
              "      <td>CCAFS</td>\n",
              "      <td>SpaceX CRS-1</td>\n",
              "      <td>4,700 kg</td>\n",
              "      <td>LEO</td>\n",
              "      <td>NASA</td>\n",
              "      <td>Success\\n</td>\n",
              "      <td>F9 v1.07B0006.18</td>\n",
              "      <td>No attempt</td>\n",
              "      <td>8 October 2012</td>\n",
              "      <td>00:35</td>\n",
              "    </tr>\n",
              "    <tr>\n",
              "      <th>4</th>\n",
              "      <td>5</td>\n",
              "      <td>CCAFS</td>\n",
              "      <td>SpaceX CRS-2</td>\n",
              "      <td>4,877 kg</td>\n",
              "      <td>LEO</td>\n",
              "      <td>NASA</td>\n",
              "      <td>Success\\n</td>\n",
              "      <td>F9 v1.07B0007.18</td>\n",
              "      <td>No attempt\\n</td>\n",
              "      <td>1 March 2013</td>\n",
              "      <td>15:10</td>\n",
              "    </tr>\n",
              "    <tr>\n",
              "      <th>...</th>\n",
              "      <td>...</td>\n",
              "      <td>...</td>\n",
              "      <td>...</td>\n",
              "      <td>...</td>\n",
              "      <td>...</td>\n",
              "      <td>...</td>\n",
              "      <td>...</td>\n",
              "      <td>...</td>\n",
              "      <td>...</td>\n",
              "      <td>...</td>\n",
              "      <td>...</td>\n",
              "    </tr>\n",
              "    <tr>\n",
              "      <th>328</th>\n",
              "      <td>117</td>\n",
              "      <td>CCSFS</td>\n",
              "      <td>Starlink</td>\n",
              "      <td>15,600 kg</td>\n",
              "      <td>LEO</td>\n",
              "      <td>SpaceX</td>\n",
              "      <td>Success\\n</td>\n",
              "      <td>F9 B5B1051.10657</td>\n",
              "      <td>Success</td>\n",
              "      <td>9 May 2021</td>\n",
              "      <td>06:42</td>\n",
              "    </tr>\n",
              "    <tr>\n",
              "      <th>329</th>\n",
              "      <td>118</td>\n",
              "      <td>KSC</td>\n",
              "      <td>Starlink</td>\n",
              "      <td>~14,000 kg</td>\n",
              "      <td>LEO</td>\n",
              "      <td>NASA</td>\n",
              "      <td>Success\\n</td>\n",
              "      <td>F9 B5B1058.8660</td>\n",
              "      <td>Success</td>\n",
              "      <td>15 May 2021</td>\n",
              "      <td>22:56</td>\n",
              "    </tr>\n",
              "    <tr>\n",
              "      <th>330</th>\n",
              "      <td>119</td>\n",
              "      <td>CCSFS</td>\n",
              "      <td>Starlink</td>\n",
              "      <td>15,600 kg</td>\n",
              "      <td>LEO</td>\n",
              "      <td>Sirius XM</td>\n",
              "      <td>Success\\n</td>\n",
              "      <td>F9 B5B1063.2665</td>\n",
              "      <td>Success</td>\n",
              "      <td>26 May 2021</td>\n",
              "      <td>18:59</td>\n",
              "    </tr>\n",
              "    <tr>\n",
              "      <th>331</th>\n",
              "      <td>120</td>\n",
              "      <td>KSC</td>\n",
              "      <td>SpaceX CRS-22</td>\n",
              "      <td>3,328 kg</td>\n",
              "      <td>LEO</td>\n",
              "      <td>NaN</td>\n",
              "      <td>NaN</td>\n",
              "      <td>F9 B5B1067.1668</td>\n",
              "      <td>NaN</td>\n",
              "      <td>3 June 2021</td>\n",
              "      <td>17:29</td>\n",
              "    </tr>\n",
              "    <tr>\n",
              "      <th>332</th>\n",
              "      <td>121</td>\n",
              "      <td>CCSFS</td>\n",
              "      <td>SXM-8</td>\n",
              "      <td>7,000 kg</td>\n",
              "      <td>GTO</td>\n",
              "      <td>NaN</td>\n",
              "      <td>NaN</td>\n",
              "      <td>F9 B5</td>\n",
              "      <td>NaN</td>\n",
              "      <td>6 June 2021</td>\n",
              "      <td>04:26</td>\n",
              "    </tr>\n",
              "  </tbody>\n",
              "</table>\n",
              "<p>333 rows × 11 columns</p>\n",
              "</div>"
            ],
            "text/plain": [
              "    Flight No. Launch site                               Payload Payload mass  \\\n",
              "0            1       CCAFS  Dragon Spacecraft Qualification Unit            0   \n",
              "1            2       CCAFS                                Dragon            0   \n",
              "2            3       CCAFS                                Dragon       525 kg   \n",
              "3            4       CCAFS                          SpaceX CRS-1     4,700 kg   \n",
              "4            5       CCAFS                          SpaceX CRS-2     4,877 kg   \n",
              "..         ...         ...                                   ...          ...   \n",
              "328        117       CCSFS                              Starlink    15,600 kg   \n",
              "329        118         KSC                              Starlink   ~14,000 kg   \n",
              "330        119       CCSFS                              Starlink    15,600 kg   \n",
              "331        120         KSC                         SpaceX CRS-22     3,328 kg   \n",
              "332        121       CCSFS                                 SXM-8     7,000 kg   \n",
              "\n",
              "    Orbit   Customer Launch outcome   Version Booster Booster landing  \\\n",
              "0     LEO     SpaceX      Success\\n  F9 v1.07B0003.18         Failure   \n",
              "1     LEO       NASA        Success  F9 v1.07B0004.18         Failure   \n",
              "2     LEO       NASA        Success  F9 v1.07B0005.18    No attempt\\n   \n",
              "3     LEO       NASA      Success\\n  F9 v1.07B0006.18      No attempt   \n",
              "4     LEO       NASA      Success\\n  F9 v1.07B0007.18    No attempt\\n   \n",
              "..    ...        ...            ...               ...             ...   \n",
              "328   LEO     SpaceX      Success\\n  F9 B5B1051.10657         Success   \n",
              "329   LEO       NASA      Success\\n   F9 B5B1058.8660         Success   \n",
              "330   LEO  Sirius XM      Success\\n   F9 B5B1063.2665         Success   \n",
              "331   LEO        NaN            NaN   F9 B5B1067.1668             NaN   \n",
              "332   GTO        NaN            NaN             F9 B5             NaN   \n",
              "\n",
              "                Date   Time  \n",
              "0        4 June 2010  18:45  \n",
              "1    8 December 2010  15:43  \n",
              "2        22 May 2012  07:44  \n",
              "3     8 October 2012  00:35  \n",
              "4       1 March 2013  15:10  \n",
              "..               ...    ...  \n",
              "328       9 May 2021  06:42  \n",
              "329      15 May 2021  22:56  \n",
              "330      26 May 2021  18:59  \n",
              "331      3 June 2021  17:29  \n",
              "332      6 June 2021  04:26  \n",
              "\n",
              "[333 rows x 11 columns]"
            ]
          },
          "execution_count": 20,
          "metadata": {},
          "output_type": "execute_result"
        }
      ],
      "source": [
        "df"
      ]
    },
    {
      "cell_type": "markdown",
      "metadata": {
        "id": "37pbrVSS1Ats"
      },
      "source": [
        "We can now export it to a <b>CSV</b> for the next section."
      ]
    },
    {
      "cell_type": "code",
      "execution_count": null,
      "metadata": {
        "tags": [],
        "id": "zVLIo4E41Ats"
      },
      "outputs": [],
      "source": [
        "df.to_csv('spacex_web_scraped.csv', index=False)"
      ]
    },
    {
      "cell_type": "markdown",
      "metadata": {
        "id": "sVpBmdlZ1Att"
      },
      "source": [
        "## This Lab was created by:\n"
      ]
    },
    {
      "cell_type": "markdown",
      "metadata": {
        "id": "K9Xt_x8W1Att"
      },
      "source": [
        "<a href=\"https://www.linkedin.com/in/yan-luo-96288783/\">Yan Luo</a>\n"
      ]
    },
    {
      "cell_type": "markdown",
      "metadata": {
        "id": "PsUhY8El1Att"
      },
      "source": [
        "<a href=\"https://www.linkedin.com/in/nayefaboutayoun/\">Nayef Abou Tayoun</a>\n"
      ]
    },
    {
      "cell_type": "markdown",
      "metadata": {
        "id": "olmUGFbJ1Att"
      },
      "source": [
        "Copyright © 2021 IBM Corporation. All rights reserved.\n"
      ]
    }
  ],
  "metadata": {
    "kernelspec": {
      "display_name": "Python",
      "language": "python",
      "name": "conda-env-python-py"
    },
    "language_info": {
      "codemirror_mode": {
        "name": "ipython",
        "version": 3
      },
      "file_extension": ".py",
      "mimetype": "text/x-python",
      "name": "python",
      "nbconvert_exporter": "python",
      "pygments_lexer": "ipython3",
      "version": "3.7.12"
    },
    "prev_pub_hash": "64f1b0aac408997185c47caba18730e0028b75e7934a0e5bf0ae73c5cb7ba677",
    "colab": {
      "provenance": []
    }
  },
  "nbformat": 4,
  "nbformat_minor": 0
}